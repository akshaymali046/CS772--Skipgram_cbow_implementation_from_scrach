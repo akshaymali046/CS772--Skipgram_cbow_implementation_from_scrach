{
 "cells": [
  {
   "cell_type": "code",
   "execution_count": 1,
   "id": "12c24968-2d35-4426-bc11-5f1be1d6d3de",
   "metadata": {},
   "outputs": [],
   "source": [
    "import numpy as np"
   ]
  },
  {
   "cell_type": "code",
   "execution_count": 2,
   "id": "c40464dc-992c-4a29-b949-27fdb136d33d",
   "metadata": {},
   "outputs": [],
   "source": [
    "mumbai=np.array([[1],[0],[0],[0],[0],[0]])\n",
    "delhi=np.array([[0],[1],[0],[0],[0],[0]])\n",
    "marathi=np.array([[0],[0],[1],[0],[0],[0]])\n",
    "hindi=np.array([[0],[0],[0],[1],[0],[0]])\n",
    "india =np.array([[0],[0],[0],[0],[1],[0]])\n",
    "maharashtra=np.array([[0],[0],[0],[0],[0],[1]])\n",
    "x1=np.append(mumbai, marathi, axis=1)\n",
    "x2=np.sum(x1,axis=1,keepdims=True)/2\n",
    "x3=np.append(delhi, hindi, axis=1)\n",
    "x4=np.sum(x3,axis=1,keepdims=True)/2\n",
    "x=np.append(x2, x4, axis=1)\n",
    "y=np.append(maharashtra, india, axis=1)"
   ]
  },
  {
   "cell_type": "code",
   "execution_count": 3,
   "id": "2d7135f2-9908-42d5-a1e4-60b88bac8ac9",
   "metadata": {},
   "outputs": [
    {
     "data": {
      "text/plain": [
       "array([[0.5, 0. ],\n",
       "       [0. , 0.5],\n",
       "       [0.5, 0. ],\n",
       "       [0. , 0.5],\n",
       "       [0. , 0. ],\n",
       "       [0. , 0. ]])"
      ]
     },
     "execution_count": 3,
     "metadata": {},
     "output_type": "execute_result"
    }
   ],
   "source": [
    "x\n",
    "#context words : mumbai marathi delhi hindi\n",
    "#target words : maharashtra maharashtra india india"
   ]
  },
  {
   "cell_type": "code",
   "execution_count": 4,
   "id": "06453c19-a90d-4c1d-bd4a-a1eb47df7826",
   "metadata": {},
   "outputs": [
    {
     "data": {
      "text/plain": [
       "array([[0, 0],\n",
       "       [0, 0],\n",
       "       [0, 0],\n",
       "       [0, 0],\n",
       "       [0, 1],\n",
       "       [1, 0]])"
      ]
     },
     "execution_count": 4,
     "metadata": {},
     "output_type": "execute_result"
    }
   ],
   "source": [
    "y"
   ]
  },
  {
   "cell_type": "code",
   "execution_count": 5,
   "id": "96e639e0-d3f8-4cc0-9d52-33ddc1533093",
   "metadata": {},
   "outputs": [],
   "source": [
    "dims=2"
   ]
  },
  {
   "cell_type": "code",
   "execution_count": 6,
   "id": "9a26bad2-3618-4b48-ba67-8a1a88da3b2b",
   "metadata": {},
   "outputs": [],
   "source": [
    "V=mumbai.shape[0]"
   ]
  },
  {
   "cell_type": "code",
   "execution_count": 7,
   "id": "8b0aa15b-e39a-4978-8015-16941adb0a8b",
   "metadata": {},
   "outputs": [],
   "source": [
    "np.random.seed(0)"
   ]
  },
  {
   "cell_type": "code",
   "execution_count": 8,
   "id": "2047143b-ccc7-42a0-96cf-4730ab93c528",
   "metadata": {},
   "outputs": [],
   "source": [
    "W0=np.random.uniform(low=0, high=0.8, size=(V,dims))\n",
    "W1=np.random.uniform(low=0, high=0.8, size=(dims,V))"
   ]
  },
  {
   "cell_type": "code",
   "execution_count": 9,
   "id": "d4b4d5e3-afd6-4417-9160-1f176be03b3f",
   "metadata": {},
   "outputs": [
    {
     "data": {
      "text/plain": [
       "array([[0.4390508 , 0.57215149],\n",
       "       [0.4822107 , 0.43590655],\n",
       "       [0.33892384, 0.51671529],\n",
       "       [0.35006977, 0.7134184 ],\n",
       "       [0.77093021, 0.30675322],\n",
       "       [0.63338003, 0.42311594]])"
      ]
     },
     "execution_count": 9,
     "metadata": {},
     "output_type": "execute_result"
    }
   ],
   "source": [
    "W0"
   ]
  },
  {
   "cell_type": "code",
   "execution_count": 10,
   "id": "63be709b-2eda-4979-bce9-ad7c177bd030",
   "metadata": {},
   "outputs": [
    {
     "data": {
      "text/plain": [
       "array([[0.45443565, 0.74047731, 0.05682885, 0.06970344, 0.01617472,\n",
       "        0.66609588],\n",
       "       [0.6225254 , 0.69600972, 0.78289467, 0.63932685, 0.36918349,\n",
       "        0.62442334]])"
      ]
     },
     "execution_count": 10,
     "metadata": {},
     "output_type": "execute_result"
    }
   ],
   "source": [
    "W1"
   ]
  },
  {
   "cell_type": "code",
   "execution_count": 22,
   "id": "0b46a931-316f-43f2-89c2-4c9c97529b80",
   "metadata": {},
   "outputs": [],
   "source": [
    "def softmax(z):\n",
    "    e_z = np.exp(z)\n",
    "    sum_e_z = np.sum(e_z,axis=0,keepdims=True)\n",
    "    return e_z/sum_e_z"
   ]
  },
  {
   "cell_type": "code",
   "execution_count": 23,
   "id": "85116f5b-e816-4ff1-b072-28a63d5bd83a",
   "metadata": {},
   "outputs": [],
   "source": [
    "def forward(W0,W1,x):\n",
    "    h=np.dot(W0.T,x)\n",
    "    v=np.dot(W1.T,h)\n",
    "    return h,softmax(v)"
   ]
  },
  {
   "cell_type": "code",
   "execution_count": 24,
   "id": "92cc4a6a-169c-4e62-8ff9-656562b5d535",
   "metadata": {},
   "outputs": [],
   "source": [
    "def compute_cost(y, yhat):\n",
    "    m=y.shape[1]\n",
    "    logprobs = np.multiply(np.log(yhat),y)\n",
    "    cost = - (1/m) * np.sum(logprobs)\n",
    "    cost = np.squeeze(cost)\n",
    "    return cost"
   ]
  },
  {
   "cell_type": "code",
   "execution_count": 25,
   "id": "7da87044-750b-415a-b5d2-4347476212fe",
   "metadata": {},
   "outputs": [],
   "source": [
    "def backprop(W0,W1,x,y_true,alpha):\n",
    "    iter=0\n",
    "    while iter<500:\n",
    "        \n",
    "       h,y_pred=forward(W0,W1,x)\n",
    "       loss = compute_cost(y_true, y_pred)\n",
    "       l1 = np.dot(W1 ,(y_pred - y_true))\n",
    "       dW1 = np.dot(h,(y_pred - y_true).T)\n",
    "       dW0 = np.dot(x,l1.T)\n",
    "       W1 -= alpha * dW1\n",
    "       W0 -= alpha * dW0\n",
    "       \n",
    "       if iter % 10 == 0:\n",
    "            print(f\"loss at iteration {iter} is {loss}\")\n",
    "       iter=iter+1\n",
    "    \n",
    "    return W0,W1"
   ]
  },
  {
   "cell_type": "code",
   "execution_count": 26,
   "id": "17978121-de9f-4808-b641-6a4a3faedb01",
   "metadata": {},
   "outputs": [
    {
     "name": "stdout",
     "output_type": "stream",
     "text": [
      "loss at iteration 0 is 0.011883673729584782\n",
      "loss at iteration 10 is 0.011484286998021793\n",
      "loss at iteration 20 is 0.011108673020306475\n",
      "loss at iteration 30 is 0.010754850799269102\n",
      "loss at iteration 40 is 0.010421048383016093\n",
      "loss at iteration 50 is 0.010105676449793538\n",
      "loss at iteration 60 is 0.009807305749606615\n",
      "loss at iteration 70 is 0.009524647767830718\n",
      "loss at iteration 80 is 0.009256538091704338\n",
      "loss at iteration 90 is 0.009001922053239022\n",
      "loss at iteration 100 is 0.008759842296665203\n",
      "loss at iteration 110 is 0.008529427978856724\n",
      "loss at iteration 120 is 0.008309885360188349\n",
      "loss at iteration 130 is 0.008100489583285013\n",
      "loss at iteration 140 is 0.007900577469886268\n",
      "loss at iteration 150 is 0.007709541193025536\n",
      "loss at iteration 160 is 0.007526822703990525\n",
      "loss at iteration 170 is 0.007351908811996679\n",
      "loss at iteration 180 is 0.007184326829866241\n",
      "loss at iteration 190 is 0.007023640711830457\n",
      "loss at iteration 200 is 0.0068694476203164205\n",
      "loss at iteration 210 is 0.006721374867601734\n",
      "loss at iteration 220 is 0.00657907718583805\n",
      "loss at iteration 230 is 0.006442234285367608\n",
      "loss at iteration 240 is 0.006310548666722081\n",
      "loss at iteration 250 is 0.006183743656321596\n",
      "loss at iteration 260 is 0.006061561639854466\n",
      "loss at iteration 270 is 0.005943762470693462\n",
      "loss at iteration 280 is 0.005830122033603518\n",
      "loss at iteration 290 is 0.005720430946484296\n",
      "loss at iteration 300 is 0.005614493385033855\n",
      "loss at iteration 310 is 0.005512126017071655\n",
      "loss at iteration 320 is 0.005413157034856559\n",
      "loss at iteration 330 is 0.005317425275125171\n",
      "loss at iteration 340 is 0.00522477941778207\n",
      "loss at iteration 350 is 0.0051350772552199945\n",
      "loss at iteration 360 is 0.005048185025166942\n",
      "loss at iteration 370 is 0.0049639768007541715\n",
      "loss at iteration 380 is 0.004882333932204663\n",
      "loss at iteration 390 is 0.0048031445351490966\n",
      "loss at iteration 400 is 0.00472630302112484\n",
      "loss at iteration 410 is 0.004651709666281533\n",
      "loss at iteration 420 is 0.004579270214743268\n",
      "loss at iteration 430 is 0.004508895513441729\n",
      "loss at iteration 440 is 0.004440501175566618\n",
      "loss at iteration 450 is 0.00437400727007013\n",
      "loss at iteration 460 is 0.004309338034914517\n",
      "loss at iteration 470 is 0.004246421611992186\n",
      "loss at iteration 480 is 0.004185189801836934\n",
      "loss at iteration 490 is 0.004125577836441961\n"
     ]
    }
   ],
   "source": [
    "W0,W1=backprop(W0,W1,x,y,0.03)"
   ]
  },
  {
   "cell_type": "code",
   "execution_count": 15,
   "id": "220c83ee-079f-4739-ae61-4c04a7295ca2",
   "metadata": {},
   "outputs": [
    {
     "name": "stdout",
     "output_type": "stream",
     "text": [
      "[[0.00274685]\n",
      " [0.00246943]\n",
      " [0.00403532]\n",
      " [0.00349176]\n",
      " [0.97936393]\n",
      " [0.00789272]]\n"
     ]
    }
   ],
   "source": [
    "_,output=forward(W0,W1,delhi)\n",
    "print(output)"
   ]
  },
  {
   "cell_type": "code",
   "execution_count": 16,
   "id": "2aad81f2-6eac-4df0-bc81-320270629123",
   "metadata": {},
   "outputs": [
    {
     "data": {
      "text/plain": [
       "(6, 2)"
      ]
     },
     "execution_count": 16,
     "metadata": {},
     "output_type": "execute_result"
    }
   ],
   "source": [
    "emb=(W0+W1.T)/2\n",
    "emb.shape"
   ]
  },
  {
   "cell_type": "code",
   "execution_count": 17,
   "id": "7c7e28ab-b552-4f49-b2f4-89386db4736f",
   "metadata": {},
   "outputs": [],
   "source": [
    "mumbai=emb[0,:]\n",
    "delhi=emb[1,:]\n",
    "marathi=emb[2,:]\n",
    "hindi=emb[3,:]\n",
    "india =emb[4,:]\n",
    "maharashtra=emb[5,:]"
   ]
  },
  {
   "cell_type": "code",
   "execution_count": 18,
   "id": "ff5d49da-92ca-4e39-97a1-499f12e3561a",
   "metadata": {},
   "outputs": [],
   "source": [
    "def cosine_similarity(A, B):\n",
    "    dot = np.dot(A,B)  \n",
    "    norma = np.linalg.norm(A)\n",
    "    normb = np.linalg.norm(B)\n",
    "    cos = dot/(norma*normb)\n",
    "    return cos"
   ]
  },
  {
   "cell_type": "code",
   "execution_count": 21,
   "id": "d4f6c71d-f6bd-45ce-84dd-718dd03dc154",
   "metadata": {},
   "outputs": [
    {
     "data": {
      "text/plain": [
       "0.993002659263361"
      ]
     },
     "execution_count": 21,
     "metadata": {},
     "output_type": "execute_result"
    }
   ],
   "source": [
    "cosine_similarity(marathi, mumbai)"
   ]
  },
  {
   "cell_type": "code",
   "execution_count": null,
   "id": "dc53f30c-e7dc-4fb0-97af-888d042b7ee5",
   "metadata": {},
   "outputs": [],
   "source": []
  }
 ],
 "metadata": {
  "kernelspec": {
   "display_name": "Python 3 (ipykernel)",
   "language": "python",
   "name": "python3"
  },
  "language_info": {
   "codemirror_mode": {
    "name": "ipython",
    "version": 3
   },
   "file_extension": ".py",
   "mimetype": "text/x-python",
   "name": "python",
   "nbconvert_exporter": "python",
   "pygments_lexer": "ipython3",
   "version": "3.10.4"
  }
 },
 "nbformat": 4,
 "nbformat_minor": 5
}
