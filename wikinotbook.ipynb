{
 "cells": [
  {
   "cell_type": "code",
   "execution_count": 24,
   "id": "c4dda6a4-68e6-4434-bd3e-ee017544f73d",
   "metadata": {
    "tags": []
   },
   "outputs": [
    {
     "name": "stderr",
     "output_type": "stream",
     "text": [
      "[nltk_data] Downloading package gutenberg to\n",
      "[nltk_data]     C:\\Users\\aksha\\AppData\\Roaming\\nltk_data...\n",
      "[nltk_data]   Package gutenberg is already up-to-date!\n",
      "[nltk_data] Downloading package stopwords to\n",
      "[nltk_data]     C:\\Users\\aksha\\AppData\\Roaming\\nltk_data...\n",
      "[nltk_data]   Package stopwords is already up-to-date!\n",
      "[nltk_data] Downloading package punkt to\n",
      "[nltk_data]     C:\\Users\\aksha\\AppData\\Roaming\\nltk_data...\n",
      "[nltk_data]   Package punkt is already up-to-date!\n"
     ]
    }
   ],
   "source": [
    "import nltk\n",
    "nltk.download('gutenberg')\n",
    "from nltk.corpus import gutenberg\n",
    "corpus = gutenberg.sents()\n",
    "gutenbergsentlist=list(corpus)\n",
    "from collections import defaultdict\n",
    "from nltk.tokenize import sent_tokenize, word_tokenize\n",
    "import re\n",
    "import numpy as np\n",
    "nltk.download('stopwords')\n",
    "nltk.download('punkt')\n",
    "from nltk.corpus import stopwords\n",
    "import tqdm"
   ]
  },
  {
   "cell_type": "code",
   "execution_count": 2,
   "id": "e1b6c496-d527-4558-be15-bde394743666",
   "metadata": {
    "tags": []
   },
   "outputs": [],
   "source": [
    "file = open(\"wikidata.txt\", \"r\",encoding=\"utf8\")\n",
    "contents = file.read()\n",
    "wikisentlist=contents.split(\".\")\n",
    "#each word in given analogy pair contain a sentences nearly 20 it may exceed by 3-5 depending on word that appear in other word senteces"
   ]
  },
  {
   "cell_type": "code",
   "execution_count": 3,
   "id": "f6b6d37b-84e2-423a-b900-0d06c2789bc2",
   "metadata": {
    "tags": []
   },
   "outputs": [],
   "source": [
    "def clean_corpus(words):\n",
    "   stop_words = set(stopwords.words('english'))\n",
    "   pattern = re.compile(\"^[a-zA-Z]+$\")\n",
    "   readycorpus=[]\n",
    "   for ch in words:\n",
    "       ch = ch.lower()\n",
    "       if pattern.match(ch) and ch not in stop_words and ch != '.' and ch !=\" \":\n",
    "            readycorpus.append(ch)\n",
    "   return readycorpus"
   ]
  },
  {
   "cell_type": "code",
   "execution_count": 4,
   "id": "7d724659-2bc5-4a9e-98be-513323448ab3",
   "metadata": {
    "tags": []
   },
   "outputs": [],
   "source": [
    "wiki_window_corpus=[]\n",
    "fullcorpus=[]\n",
    "for sent in wikisentlist[0::\n",
    "    rawsent=sent.split(\" \")\n",
    "    cleaned_raw= clean_corpus(rawsent)\n",
    "    if len(cleaned_raw)>=3:\n",
    "        fullcorpus+=cleaned_raw\n",
    "        wiki_window_corpus.append(clean_corpus(rawsent)) "
   ]
  },
  {
   "cell_type": "code",
   "execution_count": 5,
   "id": "62b270ba-260d-480c-873c-131d2fbf4c78",
   "metadata": {
    "tags": []
   },
   "outputs": [],
   "source": [
    "vocabulary = list(sorted(set(fullcorpus)))"
   ]
  },
  {
   "cell_type": "code",
   "execution_count": 6,
   "id": "d494afb4-ed6e-4ff7-8f2d-b1e99173e5c0",
   "metadata": {
    "tags": []
   },
   "outputs": [
    {
     "name": "stdout",
     "output_type": "stream",
     "text": [
      "Total words in corpus:  33794\n",
      "Size of vocabulary:  6453\n",
      "Most frequent tokens:  [('city', 236), ('india', 193), ('largest', 186), ('world', 172), ('capital', 171), ('also', 167), ('europe', 155), ('population', 145), ('first', 143), ('war', 142), ('state', 138), ('became', 132), ('century', 128), ('country', 125), ('australia', 113), ('asia', 106), ('spain', 105), ('government', 103), ('modern', 103), ('one', 102)]\n"
     ]
    }
   ],
   "source": [
    "freq_dist = nltk.FreqDist(word for word in fullcorpus)\n",
    "print(\"Total words in corpus: \",len(fullcorpus) )\n",
    "print(\"Size of vocabulary: \",len(freq_dist))\n",
    "print(\"Most frequent tokens: \",freq_dist.most_common(20))\n",
    "V=len(freq_dist)"
   ]
  },
  {
   "cell_type": "code",
   "execution_count": 7,
   "id": "1c5c27b8-b51e-46b0-a691-6fca45928bd8",
   "metadata": {
    "tags": []
   },
   "outputs": [],
   "source": [
    "def indices_info(processed_corpus):\n",
    "    processed =processed_corpus\n",
    "    index = 0\n",
    "    wordxInd = {}\n",
    "    Indxword = {}\n",
    "    for word in processed:\n",
    "        if word not in wordxInd: \n",
    "             wordxInd[word] = index\n",
    "             Indxword[index] = word\n",
    "             index += 1\n",
    "    return wordxInd, Indxword"
   ]
  },
  {
   "cell_type": "code",
   "execution_count": 8,
   "id": "7b7dcb4d-b7bc-4cc8-8248-64ed5c3ef25e",
   "metadata": {
    "tags": []
   },
   "outputs": [
    {
     "name": "stdout",
     "output_type": "stream",
     "text": [
      "{'abandoned': 0, 'abbreviated': 1, 'abbreviation': 2, 'abdication': 3, 'abjad': 4}\n",
      "{0: 'abandoned', 1: 'abbreviated', 2: 'abbreviation', 3: 'abdication', 4: 'abjad'}\n"
     ]
    }
   ],
   "source": [
    "import itertools\n",
    "wordxInd, Indxword = indices_info(vocabulary)\n",
    "print(dict(itertools.islice(wordxInd.items(), 5)))\n",
    "print(dict(itertools.islice(Indxword.items(), 5)))"
   ]
  },
  {
   "cell_type": "code",
   "execution_count": 9,
   "id": "64c9d1c6-d7f5-4ec2-8f92-816ba1dd198d",
   "metadata": {
    "tags": []
   },
   "outputs": [],
   "source": [
    "import pandas as pd\n",
    "df = pd.DataFrame({'vocab': vocabulary})\n",
    "one_hot_encoded = pd.get_dummies(df['vocab'])"
   ]
  },
  {
   "cell_type": "code",
   "execution_count": 10,
   "id": "1dd0b1cf-e0b5-41f6-aa94-2350b1c41383",
   "metadata": {
    "tags": []
   },
   "outputs": [],
   "source": [
    "def get_windows(corpus, C):\n",
    "        for words in corpus:\n",
    "           i = 0\n",
    "           while i < len(words):\n",
    "              center_word = words[i]\n",
    "              iC=0\n",
    "              if (i-C)>=0:\n",
    "                  iC=i-C\n",
    "              context_words = words[iC:i] + words[(i+1):(i+C+1)]\n",
    "              yield context_words, center_word\n",
    "              i += 1"
   ]
  },
  {
   "cell_type": "code",
   "execution_count": 31,
   "id": "50d01d8c-6369-49ac-b5a1-d4479ff31717",
   "metadata": {
    "tags": []
   },
   "outputs": [
    {
     "name": "stdout",
     "output_type": "stream",
     "text": [
      "context->['municipality', 'largest']  center -> athens \n",
      "context->['athens', 'largest', 'population']  center -> municipality \n",
      "context->['athens', 'municipality', 'population', 'size']  center -> largest \n",
      "context->['municipality', 'largest', 'size', 'greece']  center -> population \n"
     ]
    }
   ],
   "source": [
    "leng=0\n",
    "for context,center in get_windows(wiki_window_corpus, 2):\n",
    "    leng+=1\n",
    "    if leng<5:\n",
    "        print(f\"context->{context}  center -> {center} \")"
   ]
  },
  {
   "cell_type": "code",
   "execution_count": 25,
   "id": "b1de180a-6769-4444-b6b3-5243683e699b",
   "metadata": {
    "tags": []
   },
   "outputs": [],
   "source": [
    "def get_x(corpus, C):\n",
    "    train_x,train_y=None,None\n",
    "    for context,center in tqdm.notebook.tqdm(get_windows(corpus, 2)):\n",
    "        center_vector=one_hot_encoded.iloc[:,wordxInd[center]].to_numpy().reshape(V,1)\n",
    "        context_vector=None\n",
    "        for word in context:    \n",
    "            col_vec = one_hot_encoded.iloc[:,wordxInd[word]].to_numpy().reshape(V,1)\n",
    "            if context_vector is None:\n",
    "                 context_vector = col_vec\n",
    "            else:\n",
    "                 context_vector = np.hstack((context_vector, col_vec))\n",
    "        context_vector=np.mean(context_vector, axis=1,keepdims=True)\n",
    "        context_vector=context_vector.reshape(V,1)\n",
    "        if train_x is None:\n",
    "            train_x = context_vector\n",
    "            train_y = center_vector\n",
    "        else:\n",
    "            train_x =  np.hstack((train_x, context_vector))\n",
    "            train_y =  np.hstack((train_y, center_vector))\n",
    "    return train_x,train_y"
   ]
  },
  {
   "cell_type": "code",
   "execution_count": null,
   "id": "9c2ffe80-2865-425f-bba9-91cc545f529e",
   "metadata": {
    "tags": []
   },
   "outputs": [],
   "source": [
    "x,y=get_x(wiki_window_corpus, 2)\n",
    "x=np.around(x,decimals=3)"
   ]
  },
  {
   "cell_type": "code",
   "execution_count": null,
   "id": "fcb4dfad-7315-4d2b-be47-801be26d98af",
   "metadata": {},
   "outputs": [],
   "source": []
  }
 ],
 "metadata": {
  "kernelspec": {
   "display_name": "Python 3 (ipykernel)",
   "language": "python",
   "name": "python3"
  },
  "language_info": {
   "codemirror_mode": {
    "name": "ipython",
    "version": 3
   },
   "file_extension": ".py",
   "mimetype": "text/x-python",
   "name": "python",
   "nbconvert_exporter": "python",
   "pygments_lexer": "ipython3",
   "version": "3.10.4"
  }
 },
 "nbformat": 4,
 "nbformat_minor": 5
}
