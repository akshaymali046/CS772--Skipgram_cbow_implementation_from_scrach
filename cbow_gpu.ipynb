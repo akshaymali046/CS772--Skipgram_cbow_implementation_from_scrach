{
 "cells": [
  {
   "cell_type": "code",
   "execution_count": 1,
   "metadata": {
    "id": "QWlfPlbHRdP2"
   },
   "outputs": [],
   "source": [
    "from tqdm.notebook import tqdm\n",
    "import numpy as np\n",
    "import pickle\n",
    "import scipy.sparse as sp\n",
    "import cupy as cp"
   ]
  },
  {
   "cell_type": "code",
   "execution_count": 2,
   "metadata": {
    "id": "LNcRI7V9RqKT"
   },
   "outputs": [],
   "source": [
    "with open('vocabulary.pkl', 'rb') as f:\n",
    "    vocabulary = pickle.load(f)\n",
    "with open('word2ind.pkl', 'rb') as f1:\n",
    "    word2ind = pickle.load(f1)\n",
    "with open('ind2word.pkl', 'rb') as f2:\n",
    "    ind2word = pickle.load(f2)"
   ]
  },
  {
   "cell_type": "code",
   "execution_count": 3,
   "metadata": {
    "id": "8STsCnhnRzt_"
   },
   "outputs": [],
   "source": [
    "x = sp.load_npz('x_cbow.npz')\n",
    "y = sp.load_npz('y_cbow.npz')"
   ]
  },
  {
   "cell_type": "code",
   "execution_count": 4,
   "metadata": {
    "id": "cjZXtVcocyoa"
   },
   "outputs": [],
   "source": [
    "cp.random.seed(1)"
   ]
  },
  {
   "cell_type": "code",
   "execution_count": 5,
   "metadata": {
    "id": "2ZpL2LK7-f43"
   },
   "outputs": [],
   "source": [
    "W0=cp.random.uniform(low=-0.8 ,high=0.8,size=(len(vocabulary),200))\n",
    "W1=cp.random.uniform(low=-0.8 ,high=0.8,size=(200,len(vocabulary)))"
   ]
  },
  {
   "cell_type": "code",
   "execution_count": 6,
   "metadata": {
    "id": "QlDuwy5oSBI3"
   },
   "outputs": [],
   "source": [
    "def softmax(z):\n",
    "    e_z = cp.exp(z)\n",
    "    sum_e_z = cp.sum(e_z,axis=0,keepdims=True)\n",
    "    return e_z/sum_e_z"
   ]
  },
  {
   "cell_type": "code",
   "execution_count": 7,
   "metadata": {
    "id": "Ls5zsgNESDkf"
   },
   "outputs": [],
   "source": [
    "def forward(W0,W1,x):\n",
    "    h=cp.dot(W0.T,x)\n",
    "    v=cp.dot(W1.T,h)\n",
    "    return h,softmax(v)"
   ]
  },
  {
   "cell_type": "code",
   "execution_count": 8,
   "metadata": {
    "id": "lTZgU1MbSIu2"
   },
   "outputs": [],
   "source": [
    "def backprop(W0,W1,x,y_true,alpha):\n",
    "    h,y_pred=forward(W0,W1,x)\n",
    "    y_pred=cp.maximum(1e-8,y_pred)\n",
    "    loss = - cp.sum(y_true*np.log(y_pred))/y_true.shape[1]\n",
    "    l1 = cp.dot(W1 ,(y_pred - y_true))\n",
    "    dW1 = cp.dot(h,(y_pred - y_true).T)\n",
    "    dW0 = cp.dot(x,l1.T)\n",
    "    W1 -= alpha * dW1\n",
    "    W0 -= alpha * dW0\n",
    "    return W0,W1,loss"
   ]
  },
  {
   "cell_type": "code",
   "execution_count": 9,
   "metadata": {
    "id": "-_lADbhu2DiS"
   },
   "outputs": [],
   "source": [
    "def minibatch(W0,W1,x,y,leng,epochs):\n",
    "    W0x,W1x=W0,W1\n",
    "    e=0\n",
    "    while e<=epochs:\n",
    "        info=\"\"\n",
    "        batchsize=100\n",
    "        i=0\n",
    "        while batchsize+i <= leng:    \n",
    "            W0x,W1x,loss=backprop(W0x,W1x,cp.asarray(x[:,i:i+batchsize].toarray()),cp.asarray(y[:,i:i+batchsize].toarray()),0.03)\n",
    "            if (i+batchsize)% 50000==0:\n",
    "                info+=f\"loss at epoch {e} with batch {i} - {i+batchsize} is {loss}\\n\"\n",
    "                print(f\"loss at epoch {e} with batch {i} - {i+batchsize} is {loss}\")\n",
    "          \n",
    "            if i+batchsize == leng:\n",
    "                info+=f\"returned to batch of epoch {e} with loss at {i} - {i+batchsize} is {loss}\\n\"\n",
    "                print(f\"returned to batch of epoch {e} with loss at {i} - {i+batchsize} is {loss}\")\n",
    "\n",
    "                if not np.isnan(W0x[1,2]):\n",
    "                    print(f\"content w0,w1 saved for epoch {e} at {i+batchsize}\")\n",
    "                    np.save(f'W0epoch{e}.npy',W0x)\n",
    "                    np.save(f'W1epoch{e}.npy',W1x)\n",
    "                    with open('loss.txt', 'a') as file:\n",
    "                          file.write(info)\n",
    "\n",
    "            if i+batchsize == 659400:\n",
    "              batchsize=(leng-(batchsize+i))\n",
    "          \n",
    "            i+=100\n",
    "      \n",
    "        e+=1\n",
    "    "
   ]
  },
  {
   "cell_type": "code",
   "execution_count": 10,
   "metadata": {
    "id": "wdetqiEl3B37"
   },
   "outputs": [],
   "source": [
    "leng=x.shape[1]"
   ]
  },
  {
   "cell_type": "code",
   "execution_count": null,
   "metadata": {
    "colab": {
     "base_uri": "https://localhost:8080/"
    },
    "id": "tdFoCmBQu0Tv",
    "outputId": "c481dac9-2635-4840-ebf7-071f83f43c98"
   },
   "outputs": [],
   "source": [
    "minibatch(W0,W1,x,y,leng,1)"
   ]
  },
  {
   "cell_type": "code",
   "execution_count": null,
   "metadata": {
    "id": "twkVZkGR3GVZ"
   },
   "outputs": [],
   "source": []
  }
 ],
 "metadata": {
  "accelerator": "GPU",
  "colab": {
   "provenance": []
  },
  "gpuClass": "standard",
  "kernelspec": {
   "display_name": "Python 3",
   "language": "python",
   "name": "python3"
  },
  "language_info": {
   "codemirror_mode": {
    "name": "ipython",
    "version": 3
   },
   "file_extension": ".py",
   "mimetype": "text/x-python",
   "name": "python",
   "nbconvert_exporter": "python",
   "pygments_lexer": "ipython3",
   "version": "3.6.13"
  }
 },
 "nbformat": 4,
 "nbformat_minor": 1
}
