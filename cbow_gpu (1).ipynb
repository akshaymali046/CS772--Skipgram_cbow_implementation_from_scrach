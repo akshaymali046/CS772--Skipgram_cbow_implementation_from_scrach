{
 "cells": [
  {
   "cell_type": "code",
   "execution_count": null,
   "metadata": {
    "colab": {
     "base_uri": "https://localhost:8080/"
    },
    "id": "QpzfDd5HRWg4",
    "outputId": "e6597843-103a-484a-ff9b-8ec0db835aa8"
   },
   "outputs": [
    {
     "name": "stdout",
     "output_type": "stream",
     "text": [
      "Drive already mounted at /content/drive; to attempt to forcibly remount, call drive.mount(\"/content/drive\", force_remount=True).\n"
     ]
    }
   ],
   "source": [
    "from google.colab import drive\n",
    "drive.mount('/content/drive')"
   ]
  },
  {
   "cell_type": "code",
   "execution_count": null,
   "metadata": {
    "id": "QWlfPlbHRdP2"
   },
   "outputs": [],
   "source": [
    "from tqdm.notebook import tqdm\n",
    "import numpy as np\n",
    "import pickle\n",
    "import scipy.sparse as sp\n",
    "import cupy as cp"
   ]
  },
  {
   "cell_type": "code",
   "execution_count": null,
   "metadata": {
    "id": "LNcRI7V9RqKT"
   },
   "outputs": [],
   "source": [
    "with open('/content/drive/MyDrive/nlp/vocabulary.pkl', 'rb') as f:\n",
    "    vocabulary = pickle.load(f)\n",
    "with open('/content/drive/MyDrive/nlp/word2ind.pkl', 'rb') as f1:\n",
    "    word2ind = pickle.load(f1)\n",
    "with open('/content/drive/MyDrive/nlp/ind2word.pkl', 'rb') as f2:\n",
    "    ind2word = pickle.load(f2)"
   ]
  },
  {
   "cell_type": "code",
   "execution_count": null,
   "metadata": {
    "id": "8STsCnhnRzt_"
   },
   "outputs": [],
   "source": [
    "x = sp.load_npz('/content/drive/MyDrive/cbow200/x_cbow.npz')\n",
    "y = sp.load_npz('/content/drive/MyDrive/cbow200/y_cbow.npz')"
   ]
  },
  {
   "cell_type": "code",
   "execution_count": null,
   "metadata": {
    "id": "cjZXtVcocyoa"
   },
   "outputs": [],
   "source": [
    "cp.random.seed(1)"
   ]
  },
  {
   "cell_type": "code",
   "execution_count": null,
   "metadata": {
    "id": "2ZpL2LK7-f43"
   },
   "outputs": [],
   "source": [
    "W0=cp.random.uniform(low=-0.8 ,high=0.8,size=(len(vocabulary,200)))\n",
    "W1=cp.random.uniform(low=-0.8 ,high=0.8,size=(200,len(vocabulary)))"
   ]
  },
  {
   "cell_type": "code",
   "execution_count": null,
   "metadata": {
    "id": "QlDuwy5oSBI3"
   },
   "outputs": [],
   "source": [
    "def softmax(z):\n",
    "    e_z = cp.exp(z)\n",
    "    sum_e_z = cp.sum(e_z,axis=0,keepdims=True)\n",
    "    return e_z/sum_e_z"
   ]
  },
  {
   "cell_type": "code",
   "execution_count": null,
   "metadata": {
    "id": "Ls5zsgNESDkf"
   },
   "outputs": [],
   "source": [
    "def forward(W0,W1,x):\n",
    "    h=cp.dot(W0.T,x)\n",
    "    v=cp.dot(W1.T,h)\n",
    "    return h,softmax(v)"
   ]
  },
  {
   "cell_type": "code",
   "execution_count": null,
   "metadata": {
    "id": "lTZgU1MbSIu2"
   },
   "outputs": [],
   "source": [
    "def backprop(W0,W1,x,y_true,alpha):\n",
    "    h,y_pred=forward(W0,W1,x)\n",
    "    y_pred=cp.maximum(1e-8,y_pred)\n",
    "    loss = - cp.sum(y_true*np.log(y_pred))/y_true.shape[1]\n",
    "    l1 = cp.dot(W1 ,(y_pred - y_true))\n",
    "    dW1 = cp.dot(h,(y_pred - y_true).T)\n",
    "    dW0 = cp.dot(x,l1.T)\n",
    "    W1 -= alpha * dW1\n",
    "    W0 -= alpha * dW0\n",
    "    return W0,W1,loss"
   ]
  },
  {
   "cell_type": "code",
   "execution_count": null,
   "metadata": {
    "id": "-_lADbhu2DiS"
   },
   "outputs": [],
   "source": [
    "def minibatch(W0,W1,x,y,leng,epochs):\n",
    "    W0x,W1x=W0,W1\n",
    "    e=0\n",
    "    while e<=epochs:\n",
    "        info=\"\"\n",
    "        batchsize=100\n",
    "        i=0\n",
    "        while batchsize+i <= leng:    \n",
    "            W0x,W1x,loss=backprop(W0x,W1x,cp.asarray(x[:,i:i+batchsize].toarray()),cp.asarray(y[:,i:i+batchsize].toarray()),0.03)\n",
    "            if (i+batchsize)% 50000==0:\n",
    "                info+=f\"loss at epoch {e} with batch {i} - {i+batchsize} is {loss}\\n\"\n",
    "                print(f\"loss at epoch {e} with batch {i} - {i+batchsize} is {loss}\")\n",
    "          \n",
    "            if i+batchsize == leng:\n",
    "                info+=f\"returned to batch of epoch {e} with loss at {i} - {i+batchsize} is {loss}\\n\"\n",
    "                print(f\"returned to batch of epoch {e} with loss at {i} - {i+batchsize} is {loss}\")\n",
    "\n",
    "                if not np.isnan(W0x[1,2]):\n",
    "                    print(f\"content w0,w1 saved for epoch {e} at {i+batchsize}\")\n",
    "                    np.save(f'/content/drive/MyDrive/cbow200/W0epoch{e}.npy',W0x)\n",
    "                    np.save(f'/content/drive/MyDrive/cbow200/W1epoch{e}.npy',W1x)\n",
    "                    with open('/content/drive/MyDrive/cbow200/loss.txt', 'a') as file:\n",
    "                          file.write(info)\n",
    "\n",
    "            if i+batchsize == 659400:\n",
    "              batchsize=(leng-(batchsize+i))\n",
    "          \n",
    "            i+=100\n",
    "      \n",
    "        e+=1\n",
    "    "
   ]
  },
  {
   "cell_type": "code",
   "execution_count": null,
   "metadata": {
    "id": "wdetqiEl3B37"
   },
   "outputs": [],
   "source": [
    "leng=x.shape[1]"
   ]
  },
  {
   "cell_type": "code",
   "execution_count": null,
   "metadata": {
    "colab": {
     "base_uri": "https://localhost:8080/"
    },
    "id": "tdFoCmBQu0Tv",
    "outputId": "f949324a-b913-4a6b-d9c4-49e6d913d6f5"
   },
   "outputs": [
    {
     "name": "stdout",
     "output_type": "stream",
     "text": [
      "loss at epoch 26 with batch 49900 - 50000 is 2.7676939403596803\n",
      "loss at epoch 26 with batch 99900 - 100000 is 3.9408942324864142\n",
      "loss at epoch 26 with batch 149900 - 150000 is 2.7427221139755575\n",
      "loss at epoch 26 with batch 199900 - 200000 is 3.0027732379799774\n",
      "loss at epoch 26 with batch 249900 - 250000 is 3.1340055002726035\n",
      "loss at epoch 26 with batch 299900 - 300000 is 2.7138934877452265\n",
      "loss at epoch 26 with batch 349900 - 350000 is 3.1570957344768056\n",
      "loss at epoch 26 with batch 399900 - 400000 is 2.5952188132567016\n",
      "loss at epoch 26 with batch 449900 - 450000 is 2.4136264543392527\n",
      "loss at epoch 26 with batch 499900 - 500000 is 1.7271472766020293\n",
      "loss at epoch 26 with batch 549900 - 550000 is 0.23507904759570686\n",
      "loss at epoch 26 with batch 599900 - 600000 is 0.4504962518225017\n",
      "loss at epoch 26 with batch 649900 - 650000 is 1.1867014752310323\n",
      "returned to batch of epoch 26 with loss at 659400 - 659421 is 0.09537502227940738\n",
      "content w0,w1 saved for epoch 26 at 659421\n",
      "loss at epoch 27 with batch 49900 - 50000 is 2.6543807399880084\n",
      "loss at epoch 27 with batch 99900 - 100000 is 3.8860921554111134\n",
      "loss at epoch 27 with batch 149900 - 150000 is 2.67582380352553\n",
      "loss at epoch 27 with batch 199900 - 200000 is 2.894350836300711\n",
      "loss at epoch 27 with batch 249900 - 250000 is 3.0781000470317053\n",
      "loss at epoch 27 with batch 299900 - 300000 is 2.6057108688892083\n",
      "loss at epoch 27 with batch 349900 - 350000 is 3.0265746853265836\n",
      "loss at epoch 27 with batch 399900 - 400000 is 2.4392879707165123\n",
      "loss at epoch 27 with batch 449900 - 450000 is 2.2795024179663765\n",
      "loss at epoch 27 with batch 499900 - 500000 is 1.5634472347657586\n",
      "loss at epoch 27 with batch 549900 - 550000 is 0.22248264936179574\n",
      "loss at epoch 27 with batch 599900 - 600000 is 0.427586384783243\n",
      "loss at epoch 27 with batch 649900 - 650000 is 1.076016930121857\n",
      "returned to batch of epoch 27 with loss at 659400 - 659421 is 0.08933549080541292\n",
      "content w0,w1 saved for epoch 27 at 659421\n",
      "loss at epoch 28 with batch 49900 - 50000 is 2.5463469866007222\n",
      "loss at epoch 28 with batch 99900 - 100000 is 3.8322648092398435\n",
      "loss at epoch 28 with batch 149900 - 150000 is 2.611568320057553\n",
      "loss at epoch 28 with batch 199900 - 200000 is 2.79000593927062\n",
      "loss at epoch 28 with batch 249900 - 250000 is 3.0247086188039884\n",
      "loss at epoch 28 with batch 299900 - 300000 is 2.506572018416234\n",
      "loss at epoch 28 with batch 349900 - 350000 is 2.9015632757986625\n",
      "loss at epoch 28 with batch 399900 - 400000 is 2.2938027434343238\n",
      "loss at epoch 28 with batch 449900 - 450000 is 2.156051733344098\n",
      "loss at epoch 28 with batch 499900 - 500000 is 1.420264555266083\n",
      "loss at epoch 28 with batch 549900 - 550000 is 0.2108820256782251\n",
      "loss at epoch 28 with batch 599900 - 600000 is 0.40603289552402516\n",
      "loss at epoch 28 with batch 649900 - 650000 is 0.9779869779010555\n",
      "returned to batch of epoch 28 with loss at 659400 - 659421 is 0.08413511852808676\n",
      "content w0,w1 saved for epoch 28 at 659421\n",
      "loss at epoch 29 with batch 49900 - 50000 is 2.4431653148163655\n",
      "loss at epoch 29 with batch 99900 - 100000 is 3.7792865538963762\n",
      "loss at epoch 29 with batch 149900 - 150000 is 2.5499485280019605\n",
      "loss at epoch 29 with batch 199900 - 200000 is 2.68961947828959\n",
      "loss at epoch 29 with batch 249900 - 250000 is 2.9736000813971106\n",
      "loss at epoch 29 with batch 299900 - 300000 is 2.4148192325963684\n",
      "loss at epoch 29 with batch 349900 - 350000 is 2.781730448432551\n",
      "loss at epoch 29 with batch 399900 - 400000 is 2.1577025181482345\n",
      "loss at epoch 29 with batch 449900 - 450000 is 2.0422725805951614\n",
      "loss at epoch 29 with batch 499900 - 500000 is 1.295853449253535\n",
      "loss at epoch 29 with batch 549900 - 550000 is 0.2001193145795989\n",
      "loss at epoch 29 with batch 599900 - 600000 is 0.38572408896016586\n",
      "loss at epoch 29 with batch 649900 - 650000 is 0.8903011037837057\n",
      "returned to batch of epoch 29 with loss at 659400 - 659421 is 0.07958376632167667\n",
      "content w0,w1 saved for epoch 29 at 659421\n",
      "loss at epoch 30 with batch 49900 - 50000 is 2.3445493374874586\n",
      "loss at epoch 30 with batch 99900 - 100000 is 3.727181329288535\n",
      "loss at epoch 30 with batch 149900 - 150000 is 2.4909938514252756\n",
      "loss at epoch 30 with batch 199900 - 200000 is 2.5931556222038896\n",
      "loss at epoch 30 with batch 249900 - 250000 is 2.924523602673154\n",
      "loss at epoch 30 with batch 299900 - 300000 is 2.3289902328717904\n",
      "loss at epoch 30 with batch 349900 - 350000 is 2.6668155624763723\n",
      "loss at epoch 30 with batch 399900 - 400000 is 2.030489682486427\n",
      "loss at epoch 30 with batch 449900 - 450000 is 1.9371893946340952\n",
      "loss at epoch 30 with batch 499900 - 500000 is 1.1883883062834337\n",
      "loss at epoch 30 with batch 549900 - 550000 is 0.19007305707716507\n",
      "loss at epoch 30 with batch 599900 - 600000 is 0.3665869200477039\n",
      "loss at epoch 30 with batch 649900 - 650000 is 0.811309932289925\n",
      "returned to batch of epoch 30 with loss at 659400 - 659421 is 0.07554687999000087\n",
      "content w0,w1 saved for epoch 30 at 659421\n",
      "loss at epoch 31 with batch 49900 - 50000 is 2.2503582575229966\n",
      "loss at epoch 31 with batch 99900 - 100000 is 3.6760980920504953\n",
      "loss at epoch 31 with batch 149900 - 150000 is 2.4347621713739915\n",
      "loss at epoch 31 with batch 199900 - 200000 is 2.500623806805808\n",
      "loss at epoch 31 with batch 249900 - 250000 is 2.8772452764736034\n",
      "loss at epoch 31 with batch 299900 - 300000 is 2.2479648175444837\n",
      "loss at epoch 31 with batch 349900 - 350000 is 2.556630300606475\n",
      "loss at epoch 31 with batch 399900 - 400000 is 1.9121462271403349\n",
      "loss at epoch 31 with batch 449900 - 450000 is 1.8398730745032714\n",
      "loss at epoch 31 with batch 499900 - 500000 is 1.0958679239188083\n",
      "loss at epoch 31 with batch 549900 - 550000 is 0.18066460565054698\n",
      "loss at epoch 31 with batch 599900 - 600000 is 0.3485449427898424\n",
      "loss at epoch 31 with batch 649900 - 650000 is 0.7400147171127387\n",
      "returned to batch of epoch 31 with loss at 659400 - 659421 is 0.07192810233370242\n",
      "content w0,w1 saved for epoch 31 at 659421\n",
      "loss at epoch 32 with batch 49900 - 50000 is 2.1605509735810466\n",
      "loss at epoch 32 with batch 99900 - 100000 is 3.6262421858921483\n",
      "loss at epoch 32 with batch 149900 - 150000 is 2.381301136020203\n",
      "loss at epoch 32 with batch 199900 - 200000 is 2.4120631164835196\n",
      "loss at epoch 32 with batch 249900 - 250000 is 2.8316044065312007\n",
      "loss at epoch 32 with batch 299900 - 300000 is 2.170970170722399\n",
      "loss at epoch 32 with batch 349900 - 350000 is 2.4510665272494156\n",
      "loss at epoch 32 with batch 399900 - 400000 is 1.8029096842583527\n",
      "loss at epoch 32 with batch 449900 - 450000 is 1.7494940679734798\n",
      "loss at epoch 32 with batch 499900 - 500000 is 1.0161739015740727\n",
      "loss at epoch 32 with batch 549900 - 550000 is 0.17184307513003216\n",
      "loss at epoch 32 with batch 599900 - 600000 is 0.3315376481148693\n",
      "loss at epoch 32 with batch 649900 - 650000 is 0.6758448783384758\n",
      "returned to batch of epoch 32 with loss at 659400 - 659421 is 0.06865553568337923\n",
      "content w0,w1 saved for epoch 32 at 659421\n",
      "loss at epoch 33 with batch 49900 - 50000 is 2.0751268407304098\n",
      "loss at epoch 33 with batch 99900 - 100000 is 3.5778269651543626\n",
      "loss at epoch 33 with batch 149900 - 150000 is 2.3305540390799524\n",
      "loss at epoch 33 with batch 199900 - 200000 is 2.327563634466076\n",
      "loss at epoch 33 with batch 249900 - 250000 is 2.7875170636836826\n",
      "loss at epoch 33 with batch 299900 - 300000 is 2.0974977490740674\n",
      "loss at epoch 33 with batch 349900 - 350000 is 2.350119751934214\n",
      "loss at epoch 33 with batch 399900 - 400000 is 1.7030171368699412\n",
      "loss at epoch 33 with batch 449900 - 450000 is 1.6653402224439193\n",
      "loss at epoch 33 with batch 499900 - 500000 is 0.9472605382669088\n",
      "loss at epoch 33 with batch 549900 - 550000 is 0.16356274639367666\n",
      "loss at epoch 33 with batch 599900 - 600000 is 0.31552292853882036\n",
      "loss at epoch 33 with batch 649900 - 650000 is 0.6183818339016776\n",
      "returned to batch of epoch 33 with loss at 659400 - 659421 is 0.06567575757059438\n",
      "content w0,w1 saved for epoch 33 at 659421\n",
      "loss at epoch 34 with batch 49900 - 50000 is 1.9940964109355825\n",
      "loss at epoch 34 with batch 99900 - 100000 is 3.5310245723400637\n",
      "loss at epoch 34 with batch 149900 - 150000 is 2.2822944364228976\n",
      "loss at epoch 34 with batch 199900 - 200000 is 2.247333549799176\n",
      "loss at epoch 34 with batch 249900 - 250000 is 2.7449242587661113\n",
      "loss at epoch 34 with batch 299900 - 300000 is 2.0272110102475427\n",
      "loss at epoch 34 with batch 349900 - 350000 is 2.25389587152969\n",
      "loss at epoch 34 with batch 399900 - 400000 is 1.6124796161858268\n",
      "loss at epoch 34 with batch 449900 - 450000 is 1.586799214318856\n",
      "loss at epoch 34 with batch 499900 - 500000 is 0.8872781937454794\n",
      "loss at epoch 34 with batch 549900 - 550000 is 0.15577023340857268\n",
      "loss at epoch 34 with batch 599900 - 600000 is 0.3004481876862666\n",
      "loss at epoch 34 with batch 649900 - 650000 is 0.5671686197753605\n",
      "returned to batch of epoch 34 with loss at 659400 - 659421 is 0.06295567494745377\n",
      "content w0,w1 saved for epoch 34 at 659421\n",
      "loss at epoch 35 with batch 49900 - 50000 is 1.9174383383036315\n",
      "loss at epoch 35 with batch 99900 - 100000 is 3.485943975457534\n",
      "loss at epoch 35 with batch 149900 - 150000 is 2.236275867269527\n",
      "loss at epoch 35 with batch 199900 - 200000 is 2.1715507783145953\n",
      "loss at epoch 35 with batch 249900 - 250000 is 2.7037674943133796\n",
      "loss at epoch 35 with batch 299900 - 300000 is 1.95987768272779\n",
      "loss at epoch 35 with batch 349900 - 350000 is 2.1625576388775705\n",
      "loss at epoch 35 with batch 399900 - 400000 is 1.5309239244584034\n",
      "loss at epoch 35 with batch 449900 - 450000 is 1.5133454166180949\n",
      "loss at epoch 35 with batch 499900 - 500000 is 0.8346022003598561\n",
      "loss at epoch 35 with batch 549900 - 550000 is 0.14842267770611356\n",
      "loss at epoch 35 with batch 599900 - 600000 is 0.28625967252075146\n",
      "loss at epoch 35 with batch 649900 - 650000 is 0.5216547338029458\n",
      "returned to batch of epoch 35 with loss at 659400 - 659421 is 0.06047649837457316\n",
      "content w0,w1 saved for epoch 35 at 659421\n"
     ]
    }
   ],
   "source": [
    "minibatch(W0,W1,x,y,leng,25)"
   ]
  },
  {
   "cell_type": "code",
   "execution_count": null,
   "metadata": {
    "id": "twkVZkGR3GVZ"
   },
   "outputs": [],
   "source": []
  }
 ],
 "metadata": {
  "accelerator": "GPU",
  "colab": {
   "provenance": []
  },
  "gpuClass": "standard",
  "kernelspec": {
   "display_name": "Python 3 (ipykernel)",
   "language": "python",
   "name": "python3"
  },
  "language_info": {
   "codemirror_mode": {
    "name": "ipython",
    "version": 3
   },
   "file_extension": ".py",
   "mimetype": "text/x-python",
   "name": "python",
   "nbconvert_exporter": "python",
   "pygments_lexer": "ipython3",
   "version": "3.10.4"
  }
 },
 "nbformat": 4,
 "nbformat_minor": 4
}
